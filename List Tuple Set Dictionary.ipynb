{
 "cells": [
  {
   "cell_type": "raw",
   "id": "f99aded0",
   "metadata": {},
   "source": [
    "Variable List\n",
    "can hold many different types of data"
   ]
  },
  {
   "cell_type": "code",
   "execution_count": 3,
   "id": "19602f83",
   "metadata": {},
   "outputs": [],
   "source": [
    "l=[1,2,3,4,\"Nand\",4.5,True]"
   ]
  },
  {
   "cell_type": "code",
   "execution_count": 4,
   "id": "4e7b78fd",
   "metadata": {},
   "outputs": [
    {
     "data": {
      "text/plain": [
       "list"
      ]
     },
     "execution_count": 4,
     "metadata": {},
     "output_type": "execute_result"
    }
   ],
   "source": [
    "type(l)"
   ]
  },
  {
   "cell_type": "code",
   "execution_count": 5,
   "id": "6829dbbf",
   "metadata": {},
   "outputs": [
    {
     "data": {
      "text/plain": [
       "1"
      ]
     },
     "execution_count": 5,
     "metadata": {},
     "output_type": "execute_result"
    }
   ],
   "source": [
    "l[0] #List indexing operation"
   ]
  },
  {
   "cell_type": "code",
   "execution_count": 6,
   "id": "8eb3ebeb",
   "metadata": {},
   "outputs": [
    {
     "data": {
      "text/plain": [
       "True"
      ]
     },
     "execution_count": 6,
     "metadata": {},
     "output_type": "execute_result"
    }
   ],
   "source": [
    "l[-1]"
   ]
  },
  {
   "cell_type": "code",
   "execution_count": 7,
   "id": "f854ea28",
   "metadata": {},
   "outputs": [
    {
     "data": {
      "text/plain": [
       "[1, 2, 3, 4, 'Nand']"
      ]
     },
     "execution_count": 7,
     "metadata": {},
     "output_type": "execute_result"
    }
   ],
   "source": [
    "l[0:5] #List slicing operation same as string"
   ]
  },
  {
   "cell_type": "code",
   "execution_count": 8,
   "id": "04634ec4",
   "metadata": {},
   "outputs": [
    {
     "data": {
      "text/plain": [
       "[True, 4.5, 'Nand', 4, 3, 2, 1]"
      ]
     },
     "execution_count": 8,
     "metadata": {},
     "output_type": "execute_result"
    }
   ],
   "source": [
    "l[::-1]"
   ]
  },
  {
   "cell_type": "code",
   "execution_count": 9,
   "id": "4397db2f",
   "metadata": {},
   "outputs": [
    {
     "data": {
      "text/plain": [
       "[1, 2, 3, 4, 'Nand', 4.5, True, 'Patil']"
      ]
     },
     "execution_count": 9,
     "metadata": {},
     "output_type": "execute_result"
    }
   ],
   "source": [
    "#Concatenation possible with List only when we do it with list +list\n",
    "l+['Patil']"
   ]
  },
  {
   "cell_type": "code",
   "execution_count": 10,
   "id": "338656c5",
   "metadata": {},
   "outputs": [
    {
     "data": {
      "text/plain": [
       "[1, 2, 3, 4, 'Nand', 4.5, True, 1, 2, 3, 4, 'Nand', 4.5, True]"
      ]
     },
     "execution_count": 10,
     "metadata": {},
     "output_type": "execute_result"
    }
   ],
   "source": [
    "l*2"
   ]
  },
  {
   "cell_type": "code",
   "execution_count": 11,
   "id": "7670022f",
   "metadata": {},
   "outputs": [
    {
     "data": {
      "text/plain": [
       "False"
      ]
     },
     "execution_count": 11,
     "metadata": {},
     "output_type": "execute_result"
    }
   ],
   "source": [
    "10 in l #function in checks if data available in list or not"
   ]
  },
  {
   "cell_type": "code",
   "execution_count": 12,
   "id": "446c9dca",
   "metadata": {},
   "outputs": [
    {
     "ename": "TypeError",
     "evalue": "'>' not supported between instances of 'str' and 'int'",
     "output_type": "error",
     "traceback": [
      "\u001b[1;31m---------------------------------------------------------------------------\u001b[0m",
      "\u001b[1;31mTypeError\u001b[0m                                 Traceback (most recent call last)",
      "Input \u001b[1;32mIn [12]\u001b[0m, in \u001b[0;36m<cell line: 1>\u001b[1;34m()\u001b[0m\n\u001b[1;32m----> 1\u001b[0m \u001b[38;5;28;43mmax\u001b[39;49m\u001b[43m(\u001b[49m\u001b[43ml\u001b[49m\u001b[43m)\u001b[49m\n",
      "\u001b[1;31mTypeError\u001b[0m: '>' not supported between instances of 'str' and 'int'"
     ]
    }
   ],
   "source": [
    "max(l) #max does not operate with string"
   ]
  },
  {
   "cell_type": "code",
   "execution_count": 13,
   "id": "bf40f8e4",
   "metadata": {},
   "outputs": [],
   "source": [
    "l1=[2,4,5,6,3]"
   ]
  },
  {
   "cell_type": "code",
   "execution_count": 14,
   "id": "10c7a975",
   "metadata": {},
   "outputs": [
    {
     "data": {
      "text/plain": [
       "6"
      ]
     },
     "execution_count": 14,
     "metadata": {},
     "output_type": "execute_result"
    }
   ],
   "source": [
    "max(l1)"
   ]
  },
  {
   "cell_type": "code",
   "execution_count": 15,
   "id": "22f0e355",
   "metadata": {},
   "outputs": [],
   "source": [
    "#Comparison is done in same datatype\n",
    "#in case of string follows alphabetical index order \n",
    "#in case of numbers maximum valur displyed"
   ]
  },
  {
   "cell_type": "code",
   "execution_count": 16,
   "id": "d26c9cda",
   "metadata": {},
   "outputs": [
    {
     "data": {
      "text/plain": [
       "2"
      ]
     },
     "execution_count": 16,
     "metadata": {},
     "output_type": "execute_result"
    }
   ],
   "source": [
    "min(l1)"
   ]
  },
  {
   "cell_type": "code",
   "execution_count": 17,
   "id": "1eabbcd2",
   "metadata": {},
   "outputs": [],
   "source": [
    "l.append('nand') #Add the dataset at last index in list onlly one element at a time"
   ]
  },
  {
   "cell_type": "code",
   "execution_count": 18,
   "id": "3637e50d",
   "metadata": {},
   "outputs": [
    {
     "data": {
      "text/plain": [
       "[1, 2, 3, 4, 'Nand', 4.5, True, 'nand']"
      ]
     },
     "execution_count": 18,
     "metadata": {},
     "output_type": "execute_result"
    }
   ],
   "source": [
    "l"
   ]
  },
  {
   "cell_type": "code",
   "execution_count": 19,
   "id": "2aea824d",
   "metadata": {},
   "outputs": [
    {
     "data": {
      "text/plain": [
       "1"
      ]
     },
     "execution_count": 19,
     "metadata": {},
     "output_type": "execute_result"
    }
   ],
   "source": [
    "l.pop(0) #removes the data list at given index, default is last dataset"
   ]
  },
  {
   "cell_type": "code",
   "execution_count": 20,
   "id": "a07a9ad4",
   "metadata": {},
   "outputs": [
    {
     "data": {
      "text/plain": [
       "[2, 3, 4, 'Nand', 4.5, True, 'nand']"
      ]
     },
     "execution_count": 20,
     "metadata": {},
     "output_type": "execute_result"
    }
   ],
   "source": [
    "l"
   ]
  },
  {
   "cell_type": "code",
   "execution_count": 21,
   "id": "3d0ba0a4",
   "metadata": {},
   "outputs": [
    {
     "data": {
      "text/plain": [
       "2"
      ]
     },
     "execution_count": 21,
     "metadata": {},
     "output_type": "execute_result"
    }
   ],
   "source": [
    "l[0]"
   ]
  },
  {
   "cell_type": "code",
   "execution_count": 22,
   "id": "59082865",
   "metadata": {},
   "outputs": [
    {
     "data": {
      "text/plain": [
       "[1, 2, 3, 4, 'Nand', 4.5, True, 'nand']"
      ]
     },
     "execution_count": 22,
     "metadata": {},
     "output_type": "execute_result"
    }
   ],
   "source": [
    "[1]+l"
   ]
  },
  {
   "cell_type": "code",
   "execution_count": 23,
   "id": "102c047f",
   "metadata": {},
   "outputs": [
    {
     "data": {
      "text/plain": [
       "'nand'"
      ]
     },
     "execution_count": 23,
     "metadata": {},
     "output_type": "execute_result"
    }
   ],
   "source": [
    "l.pop() #default index is last index"
   ]
  },
  {
   "cell_type": "code",
   "execution_count": 24,
   "id": "2fb9a657",
   "metadata": {},
   "outputs": [
    {
     "data": {
      "text/plain": [
       "[2, 3, 4, 'Nand', 4.5, True]"
      ]
     },
     "execution_count": 24,
     "metadata": {},
     "output_type": "execute_result"
    }
   ],
   "source": [
    "l"
   ]
  },
  {
   "cell_type": "code",
   "execution_count": 25,
   "id": "27eaad37",
   "metadata": {},
   "outputs": [],
   "source": [
    "l.reverse() #changes the values of the list"
   ]
  },
  {
   "cell_type": "code",
   "execution_count": 26,
   "id": "8711269a",
   "metadata": {},
   "outputs": [
    {
     "data": {
      "text/plain": [
       "[True, 4.5, 'Nand', 4, 3, 2]"
      ]
     },
     "execution_count": 26,
     "metadata": {},
     "output_type": "execute_result"
    }
   ],
   "source": [
    "l"
   ]
  },
  {
   "cell_type": "code",
   "execution_count": 27,
   "id": "917bfb5c",
   "metadata": {},
   "outputs": [
    {
     "data": {
      "text/plain": [
       "[2, 3, 4, 'Nand', 4.5, True]"
      ]
     },
     "execution_count": 27,
     "metadata": {},
     "output_type": "execute_result"
    }
   ],
   "source": [
    "l[::-1] #not going to change anything but gives output in run time"
   ]
  },
  {
   "cell_type": "code",
   "execution_count": 28,
   "id": "812cd4a9",
   "metadata": {},
   "outputs": [],
   "source": [
    "#reverse() gives permanenet change in the list"
   ]
  },
  {
   "cell_type": "code",
   "execution_count": 29,
   "id": "70b7547a",
   "metadata": {},
   "outputs": [],
   "source": [
    "l3=[2,58,26,4,5,36,8446]"
   ]
  },
  {
   "cell_type": "code",
   "execution_count": 30,
   "id": "765db577",
   "metadata": {},
   "outputs": [],
   "source": [
    "l3.sort() #default is ascending order"
   ]
  },
  {
   "cell_type": "code",
   "execution_count": 31,
   "id": "9e382707",
   "metadata": {},
   "outputs": [
    {
     "data": {
      "text/plain": [
       "[2, 4, 5, 26, 36, 58, 8446]"
      ]
     },
     "execution_count": 31,
     "metadata": {},
     "output_type": "execute_result"
    }
   ],
   "source": [
    "l3"
   ]
  },
  {
   "cell_type": "code",
   "execution_count": 32,
   "id": "21742e0e",
   "metadata": {},
   "outputs": [],
   "source": [
    "l3.sort(reverse=True) #argument is passed with reverse"
   ]
  },
  {
   "cell_type": "code",
   "execution_count": 33,
   "id": "2cc716ef",
   "metadata": {},
   "outputs": [
    {
     "data": {
      "text/plain": [
       "[8446, 58, 36, 26, 5, 4, 2]"
      ]
     },
     "execution_count": 33,
     "metadata": {},
     "output_type": "execute_result"
    }
   ],
   "source": [
    "l3"
   ]
  },
  {
   "cell_type": "code",
   "execution_count": 34,
   "id": "d1554a68",
   "metadata": {},
   "outputs": [],
   "source": [
    "l4=[2,3,4]\n",
    "l5=[4,6,7]\n",
    "l6=[8,9,10]"
   ]
  },
  {
   "cell_type": "code",
   "execution_count": 35,
   "id": "daae20e2",
   "metadata": {},
   "outputs": [],
   "source": [
    "l7=[l4,l5,l6]"
   ]
  },
  {
   "cell_type": "code",
   "execution_count": 36,
   "id": "5e6b4de8",
   "metadata": {},
   "outputs": [
    {
     "data": {
      "text/plain": [
       "[[2, 3, 4], [4, 6, 7], [8, 9, 10]]"
      ]
     },
     "execution_count": 36,
     "metadata": {},
     "output_type": "execute_result"
    }
   ],
   "source": [
    "l7"
   ]
  },
  {
   "cell_type": "code",
   "execution_count": 37,
   "id": "e7ae041d",
   "metadata": {},
   "outputs": [
    {
     "data": {
      "text/plain": [
       "10"
      ]
     },
     "execution_count": 37,
     "metadata": {},
     "output_type": "execute_result"
    }
   ],
   "source": [
    "l7[2][2] #Gives the extracted element from the sublist"
   ]
  },
  {
   "cell_type": "code",
   "execution_count": 38,
   "id": "4a23568a",
   "metadata": {},
   "outputs": [
    {
     "data": {
      "text/plain": [
       "1"
      ]
     },
     "execution_count": 38,
     "metadata": {},
     "output_type": "execute_result"
    }
   ],
   "source": [
    "l.count(2)"
   ]
  },
  {
   "cell_type": "code",
   "execution_count": 39,
   "id": "f8aded2f",
   "metadata": {},
   "outputs": [],
   "source": [
    "l.extend('Nandkumar') #Append add data at end of list as it is whereas in extend operation since int is not able to explore in index fasion so the cant be extend the int value"
   ]
  },
  {
   "cell_type": "code",
   "execution_count": 40,
   "id": "b7da5fbe",
   "metadata": {},
   "outputs": [
    {
     "data": {
      "text/plain": [
       "[True, 4.5, 'Nand', 4, 3, 2, 'N', 'a', 'n', 'd', 'k', 'u', 'm', 'a', 'r']"
      ]
     },
     "execution_count": 40,
     "metadata": {},
     "output_type": "execute_result"
    }
   ],
   "source": [
    "l"
   ]
  },
  {
   "cell_type": "code",
   "execution_count": 41,
   "id": "42ebcd96",
   "metadata": {},
   "outputs": [],
   "source": [
    "l.extend('4')"
   ]
  },
  {
   "cell_type": "code",
   "execution_count": 42,
   "id": "6cce1232",
   "metadata": {},
   "outputs": [
    {
     "data": {
      "text/plain": [
       "[True, 4.5, 'Nand', 4, 3, 2, 'N', 'a', 'n', 'd', 'k', 'u', 'm', 'a', 'r', '4']"
      ]
     },
     "execution_count": 42,
     "metadata": {},
     "output_type": "execute_result"
    }
   ],
   "source": [
    "l"
   ]
  },
  {
   "cell_type": "code",
   "execution_count": 43,
   "id": "c64a3ac9",
   "metadata": {},
   "outputs": [
    {
     "data": {
      "text/plain": [
       "0"
      ]
     },
     "execution_count": 43,
     "metadata": {},
     "output_type": "execute_result"
    }
   ],
   "source": [
    "l.index(1)"
   ]
  },
  {
   "cell_type": "code",
   "execution_count": 44,
   "id": "66e5f5a2",
   "metadata": {},
   "outputs": [],
   "source": [
    "#Gives the output as index of the argument data if same dataset available multiple times then it gives output as index of first aoprearance of the data"
   ]
  },
  {
   "cell_type": "code",
   "execution_count": 45,
   "id": "335c1420",
   "metadata": {},
   "outputs": [],
   "source": [
    "l.insert(3,52) #Inset can be used to add data at any location or index"
   ]
  },
  {
   "cell_type": "code",
   "execution_count": 46,
   "id": "482395d6",
   "metadata": {},
   "outputs": [
    {
     "data": {
      "text/plain": [
       "[True,\n",
       " 4.5,\n",
       " 'Nand',\n",
       " 52,\n",
       " 4,\n",
       " 3,\n",
       " 2,\n",
       " 'N',\n",
       " 'a',\n",
       " 'n',\n",
       " 'd',\n",
       " 'k',\n",
       " 'u',\n",
       " 'm',\n",
       " 'a',\n",
       " 'r',\n",
       " '4']"
      ]
     },
     "execution_count": 46,
     "metadata": {},
     "output_type": "execute_result"
    }
   ],
   "source": [
    "l"
   ]
  },
  {
   "cell_type": "code",
   "execution_count": 47,
   "id": "c5de0f11",
   "metadata": {},
   "outputs": [],
   "source": [
    "l.remove(4) #remove takes the data as argument for operation"
   ]
  },
  {
   "cell_type": "code",
   "execution_count": 48,
   "id": "dff3c28b",
   "metadata": {},
   "outputs": [
    {
     "data": {
      "text/plain": [
       "[True, 4.5, 'Nand', 52, 3, 2, 'N', 'a', 'n', 'd', 'k', 'u', 'm', 'a', 'r', '4']"
      ]
     },
     "execution_count": 48,
     "metadata": {},
     "output_type": "execute_result"
    }
   ],
   "source": [
    "l"
   ]
  },
  {
   "cell_type": "code",
   "execution_count": 49,
   "id": "75023626",
   "metadata": {},
   "outputs": [],
   "source": [
    "l.reverse()"
   ]
  },
  {
   "cell_type": "code",
   "execution_count": 50,
   "id": "94a55487",
   "metadata": {},
   "outputs": [
    {
     "data": {
      "text/plain": [
       "['4', 'r', 'a', 'm', 'u', 'k', 'd', 'n', 'a', 'N', 2, 3, 52, 'Nand', 4.5, True]"
      ]
     },
     "execution_count": 50,
     "metadata": {},
     "output_type": "execute_result"
    }
   ],
   "source": [
    "l"
   ]
  },
  {
   "cell_type": "code",
   "execution_count": 51,
   "id": "7b119bcc",
   "metadata": {},
   "outputs": [],
   "source": [
    "l=[1,2,3,'Nand',True, False,35.6]"
   ]
  },
  {
   "cell_type": "code",
   "execution_count": 52,
   "id": "2fe08fba",
   "metadata": {},
   "outputs": [
    {
     "data": {
      "text/plain": [
       "3"
      ]
     },
     "execution_count": 52,
     "metadata": {},
     "output_type": "execute_result"
    }
   ],
   "source": [
    "l[2]"
   ]
  },
  {
   "cell_type": "code",
   "execution_count": 53,
   "id": "129fd934",
   "metadata": {},
   "outputs": [],
   "source": [
    "l.append([7,8,9])"
   ]
  },
  {
   "cell_type": "code",
   "execution_count": 54,
   "id": "7efde892",
   "metadata": {},
   "outputs": [
    {
     "data": {
      "text/plain": [
       "[1, 2, 3, 'Nand', True, False, 35.6, [7, 8, 9]]"
      ]
     },
     "execution_count": 54,
     "metadata": {},
     "output_type": "execute_result"
    }
   ],
   "source": [
    "l"
   ]
  },
  {
   "cell_type": "code",
   "execution_count": 55,
   "id": "31e26fe2",
   "metadata": {},
   "outputs": [],
   "source": [
    "#Reassign the value in list \n",
    "l[1]=\"Patil\""
   ]
  },
  {
   "cell_type": "code",
   "execution_count": 56,
   "id": "9e6dc0a2",
   "metadata": {},
   "outputs": [
    {
     "data": {
      "text/plain": [
       "[1, 'Patil', 3, 'Nand', True, False, 35.6, [7, 8, 9]]"
      ]
     },
     "execution_count": 56,
     "metadata": {},
     "output_type": "execute_result"
    }
   ],
   "source": [
    "l"
   ]
  },
  {
   "cell_type": "code",
   "execution_count": 57,
   "id": "f3b45598",
   "metadata": {},
   "outputs": [],
   "source": [
    "s=\"iNeuron\""
   ]
  },
  {
   "cell_type": "code",
   "execution_count": 58,
   "id": "fe5344f1",
   "metadata": {},
   "outputs": [
    {
     "ename": "TypeError",
     "evalue": "'str' object does not support item assignment",
     "output_type": "error",
     "traceback": [
      "\u001b[1;31m---------------------------------------------------------------------------\u001b[0m",
      "\u001b[1;31mTypeError\u001b[0m                                 Traceback (most recent call last)",
      "Input \u001b[1;32mIn [58]\u001b[0m, in \u001b[0;36m<cell line: 1>\u001b[1;34m()\u001b[0m\n\u001b[1;32m----> 1\u001b[0m s[\u001b[38;5;241m2\u001b[39m]\u001b[38;5;241m=\u001b[39m\u001b[38;5;124m'\u001b[39m\u001b[38;5;124m1\u001b[39m\u001b[38;5;124m'\u001b[39m\n",
      "\u001b[1;31mTypeError\u001b[0m: 'str' object does not support item assignment"
     ]
    }
   ],
   "source": [
    "s[2]='1' #String variable doesnt support item reassignment because\n",
    "#Item assignment operation: String elements are immutable (not able to item reassignment operation inside the iteration)"
   ]
  },
  {
   "cell_type": "code",
   "execution_count": 59,
   "id": "e314817f",
   "metadata": {},
   "outputs": [],
   "source": [
    "#Variable Tuple\n",
    "t=(1,2,3,4.5,True,\"Nand\")"
   ]
  },
  {
   "cell_type": "code",
   "execution_count": 60,
   "id": "20f803c1",
   "metadata": {},
   "outputs": [
    {
     "data": {
      "text/plain": [
       "tuple"
      ]
     },
     "execution_count": 60,
     "metadata": {},
     "output_type": "execute_result"
    }
   ],
   "source": [
    "type(t)"
   ]
  },
  {
   "cell_type": "code",
   "execution_count": 62,
   "id": "ab080453",
   "metadata": {},
   "outputs": [
    {
     "data": {
      "text/plain": [
       "1"
      ]
     },
     "execution_count": 62,
     "metadata": {},
     "output_type": "execute_result"
    }
   ],
   "source": [
    "t[0] #holds the data wrt index in forward and backward direction"
   ]
  },
  {
   "cell_type": "code",
   "execution_count": 64,
   "id": "ff38e200",
   "metadata": {},
   "outputs": [
    {
     "data": {
      "text/plain": [
       "(1, 2, 3, 4.5)"
      ]
     },
     "execution_count": 64,
     "metadata": {},
     "output_type": "execute_result"
    }
   ],
   "source": [
    "t[0:4] #Data slicing operation"
   ]
  },
  {
   "cell_type": "code",
   "execution_count": 65,
   "id": "08f69974",
   "metadata": {},
   "outputs": [
    {
     "data": {
      "text/plain": [
       "4.5"
      ]
     },
     "execution_count": 65,
     "metadata": {},
     "output_type": "execute_result"
    }
   ],
   "source": [
    "t[-3]"
   ]
  },
  {
   "cell_type": "code",
   "execution_count": 68,
   "id": "4ee746aa",
   "metadata": {},
   "outputs": [
    {
     "data": {
      "text/plain": [
       "('Nand', True, 4.5, 3, 2, 1)"
      ]
     },
     "execution_count": 68,
     "metadata": {},
     "output_type": "execute_result"
    }
   ],
   "source": [
    "t[::-1]"
   ]
  },
  {
   "cell_type": "code",
   "execution_count": 69,
   "id": "a4b8814e",
   "metadata": {},
   "outputs": [
    {
     "data": {
      "text/plain": [
       "()"
      ]
     },
     "execution_count": 69,
     "metadata": {},
     "output_type": "execute_result"
    }
   ],
   "source": [
    "t[0:4:-1]"
   ]
  },
  {
   "cell_type": "code",
   "execution_count": 71,
   "id": "366abba4",
   "metadata": {},
   "outputs": [
    {
     "ename": "TypeError",
     "evalue": "'tuple' object does not support item assignment",
     "output_type": "error",
     "traceback": [
      "\u001b[1;31m---------------------------------------------------------------------------\u001b[0m",
      "\u001b[1;31mTypeError\u001b[0m                                 Traceback (most recent call last)",
      "Input \u001b[1;32mIn [71]\u001b[0m, in \u001b[0;36m<cell line: 1>\u001b[1;34m()\u001b[0m\n\u001b[1;32m----> 1\u001b[0m t[\u001b[38;5;241m2\u001b[39m]\u001b[38;5;241m=\u001b[39m\u001b[38;5;124m\"\u001b[39m\u001b[38;5;124ms\u001b[39m\u001b[38;5;124m\"\u001b[39m\n",
      "\u001b[1;31mTypeError\u001b[0m: 'tuple' object does not support item assignment"
     ]
    }
   ],
   "source": [
    "t[2]=\"s\" #Tuple is immutable in nature, Item assignment operation is possible"
   ]
  },
  {
   "cell_type": "code",
   "execution_count": 73,
   "id": "4e6326c9",
   "metadata": {},
   "outputs": [
    {
     "data": {
      "text/plain": [
       "1"
      ]
     },
     "execution_count": 73,
     "metadata": {},
     "output_type": "execute_result"
    }
   ],
   "source": [
    "t.count(3)"
   ]
  },
  {
   "cell_type": "code",
   "execution_count": 74,
   "id": "d814f179",
   "metadata": {},
   "outputs": [],
   "source": [
    "t1=(100,5,8)"
   ]
  },
  {
   "cell_type": "code",
   "execution_count": 75,
   "id": "bf8fc69c",
   "metadata": {},
   "outputs": [
    {
     "data": {
      "text/plain": [
       "(1, 2, 3, 4.5, True, 'Nand', 100, 5, 8)"
      ]
     },
     "execution_count": 75,
     "metadata": {},
     "output_type": "execute_result"
    }
   ],
   "source": [
    "t+t1"
   ]
  },
  {
   "cell_type": "code",
   "execution_count": 76,
   "id": "b05552a6",
   "metadata": {},
   "outputs": [],
   "source": [
    "#Immutability comes when it does change the existing indexes"
   ]
  },
  {
   "cell_type": "code",
   "execution_count": 77,
   "id": "53797f38",
   "metadata": {},
   "outputs": [
    {
     "data": {
      "text/plain": [
       "1"
      ]
     },
     "execution_count": 77,
     "metadata": {},
     "output_type": "execute_result"
    }
   ],
   "source": [
    "t.index(2)"
   ]
  },
  {
   "cell_type": "code",
   "execution_count": 79,
   "id": "2a687191",
   "metadata": {},
   "outputs": [
    {
     "data": {
      "text/plain": [
       "1"
      ]
     },
     "execution_count": 79,
     "metadata": {},
     "output_type": "execute_result"
    }
   ],
   "source": [
    "(t+t1).count(5)"
   ]
  },
  {
   "cell_type": "code",
   "execution_count": 81,
   "id": "3f8075df",
   "metadata": {},
   "outputs": [],
   "source": [
    "l=list(t) #tuple to list conversion possible"
   ]
  },
  {
   "cell_type": "code",
   "execution_count": 82,
   "id": "0e352b38",
   "metadata": {},
   "outputs": [
    {
     "data": {
      "text/plain": [
       "[1, 2, 3, 4.5, True, 'Nand']"
      ]
     },
     "execution_count": 82,
     "metadata": {},
     "output_type": "execute_result"
    }
   ],
   "source": [
    "l"
   ]
  },
  {
   "cell_type": "code",
   "execution_count": 83,
   "id": "497c4acc",
   "metadata": {},
   "outputs": [
    {
     "data": {
      "text/plain": [
       "(1, 2, 3, 4.5, True, 'Nand')"
      ]
     },
     "execution_count": 83,
     "metadata": {},
     "output_type": "execute_result"
    }
   ],
   "source": [
    "tuple(l)"
   ]
  },
  {
   "cell_type": "code",
   "execution_count": 84,
   "id": "0eb8bc9f",
   "metadata": {},
   "outputs": [],
   "source": [
    "s=str(l)"
   ]
  },
  {
   "cell_type": "code",
   "execution_count": 85,
   "id": "1cd2454a",
   "metadata": {},
   "outputs": [
    {
     "data": {
      "text/plain": [
       "\"[1, 2, 3, 4.5, True, 'Nand']\""
      ]
     },
     "execution_count": 85,
     "metadata": {},
     "output_type": "execute_result"
    }
   ],
   "source": [
    "s"
   ]
  },
  {
   "cell_type": "code",
   "execution_count": 87,
   "id": "9ec0661f",
   "metadata": {},
   "outputs": [
    {
     "data": {
      "text/plain": [
       "('[',\n",
       " '1',\n",
       " ',',\n",
       " ' ',\n",
       " '2',\n",
       " ',',\n",
       " ' ',\n",
       " '3',\n",
       " ',',\n",
       " ' ',\n",
       " '4',\n",
       " '.',\n",
       " '5',\n",
       " ',',\n",
       " ' ',\n",
       " 'T',\n",
       " 'r',\n",
       " 'u',\n",
       " 'e',\n",
       " ',',\n",
       " ' ',\n",
       " \"'\",\n",
       " 'N',\n",
       " 'a',\n",
       " 'n',\n",
       " 'd',\n",
       " \"'\",\n",
       " ']')"
      ]
     },
     "execution_count": 87,
     "metadata": {},
     "output_type": "execute_result"
    }
   ],
   "source": [
    "tuple(s)"
   ]
  },
  {
   "cell_type": "code",
   "execution_count": 88,
   "id": "bfcbada3",
   "metadata": {},
   "outputs": [],
   "source": [
    "#Dictionary"
   ]
  },
  {
   "cell_type": "code",
   "execution_count": 89,
   "id": "748b86e8",
   "metadata": {},
   "outputs": [],
   "source": [
    "d={}"
   ]
  },
  {
   "cell_type": "code",
   "execution_count": 90,
   "id": "3f70b42e",
   "metadata": {},
   "outputs": [
    {
     "data": {
      "text/plain": [
       "dict"
      ]
     },
     "execution_count": 90,
     "metadata": {},
     "output_type": "execute_result"
    }
   ],
   "source": [
    "type(d)"
   ]
  },
  {
   "cell_type": "code",
   "execution_count": 91,
   "id": "65a2e680",
   "metadata": {},
   "outputs": [],
   "source": [
    "d1={1}"
   ]
  },
  {
   "cell_type": "code",
   "execution_count": 92,
   "id": "6c0890f8",
   "metadata": {},
   "outputs": [
    {
     "data": {
      "text/plain": [
       "set"
      ]
     },
     "execution_count": 92,
     "metadata": {},
     "output_type": "execute_result"
    }
   ],
   "source": [
    "type(d1)"
   ]
  },
  {
   "cell_type": "code",
   "execution_count": 93,
   "id": "ded9edf4",
   "metadata": {},
   "outputs": [],
   "source": [
    "#Symbol for both dictionary and set are same "
   ]
  },
  {
   "cell_type": "code",
   "execution_count": 94,
   "id": "6f3e6de1",
   "metadata": {},
   "outputs": [],
   "source": [
    "d2={'key1':'Nand',124:568,'Num':854.6,1:True,'No':False}"
   ]
  },
  {
   "cell_type": "code",
   "execution_count": 95,
   "id": "fd22795c",
   "metadata": {},
   "outputs": [
    {
     "data": {
      "text/plain": [
       "dict"
      ]
     },
     "execution_count": 95,
     "metadata": {},
     "output_type": "execute_result"
    }
   ],
   "source": [
    "type(d2)"
   ]
  },
  {
   "cell_type": "code",
   "execution_count": 98,
   "id": "833fbb74",
   "metadata": {},
   "outputs": [
    {
     "data": {
      "text/plain": [
       "854.6"
      ]
     },
     "execution_count": 98,
     "metadata": {},
     "output_type": "execute_result"
    }
   ],
   "source": [
    "d2['Num'] #For indexing we need to given key as indexing element"
   ]
  },
  {
   "cell_type": "code",
   "execution_count": 104,
   "id": "3c7dbd02",
   "metadata": {},
   "outputs": [],
   "source": [
    "d3={'Name':\"Data\",'tech':['Python','R','Big data']}"
   ]
  },
  {
   "cell_type": "code",
   "execution_count": 105,
   "id": "da7a9dee",
   "metadata": {},
   "outputs": [
    {
     "data": {
      "text/plain": [
       "['Python', 'R', 'Big data']"
      ]
     },
     "execution_count": 105,
     "metadata": {},
     "output_type": "execute_result"
    }
   ],
   "source": [
    "d3[\"tech\"]"
   ]
  },
  {
   "cell_type": "code",
   "execution_count": 107,
   "id": "328f26a9",
   "metadata": {},
   "outputs": [
    {
     "data": {
      "text/plain": [
       "True"
      ]
     },
     "execution_count": 107,
     "metadata": {},
     "output_type": "execute_result"
    }
   ],
   "source": [
    "\"Python\" in d3[\"tech\"]"
   ]
  },
  {
   "cell_type": "code",
   "execution_count": 108,
   "id": "b0f46444",
   "metadata": {},
   "outputs": [],
   "source": [
    "#If key is repeated then it will consider last kay for output so it must be unique keys"
   ]
  },
  {
   "cell_type": "code",
   "execution_count": 109,
   "id": "c64ebaa9",
   "metadata": {},
   "outputs": [],
   "source": [
    "d3[\"k1\"]=\"xyz\" #Dictionary is mutable"
   ]
  },
  {
   "cell_type": "code",
   "execution_count": 110,
   "id": "a96fcbe6",
   "metadata": {},
   "outputs": [
    {
     "data": {
      "text/plain": [
       "{'Name': 'Data', 'tech': ['Python', 'R', 'Big data'], 'k1': 'xyz'}"
      ]
     },
     "execution_count": 110,
     "metadata": {},
     "output_type": "execute_result"
    }
   ],
   "source": [
    "d3"
   ]
  },
  {
   "cell_type": "code",
   "execution_count": 111,
   "id": "d83606a4",
   "metadata": {},
   "outputs": [],
   "source": [
    "d3[\"Name\"]=\"56\""
   ]
  },
  {
   "cell_type": "code",
   "execution_count": 112,
   "id": "9e2c4a6b",
   "metadata": {},
   "outputs": [
    {
     "data": {
      "text/plain": [
       "{'Name': '56', 'tech': ['Python', 'R', 'Big data'], 'k1': 'xyz'}"
      ]
     },
     "execution_count": 112,
     "metadata": {},
     "output_type": "execute_result"
    }
   ],
   "source": [
    "d3"
   ]
  },
  {
   "cell_type": "code",
   "execution_count": 115,
   "id": "75736185",
   "metadata": {},
   "outputs": [],
   "source": [
    "d3['k3']=d2"
   ]
  },
  {
   "cell_type": "code",
   "execution_count": 116,
   "id": "6a839a4d",
   "metadata": {},
   "outputs": [
    {
     "data": {
      "text/plain": [
       "{'Name': '56',\n",
       " 'tech': ['Python', 'R', 'Big data'],\n",
       " 'k1': 'xyz',\n",
       " 'k3': {'key1': 'Nand', 124: 568, 'Num': 854.6, 1: True, 'No': False}}"
      ]
     },
     "execution_count": 116,
     "metadata": {},
     "output_type": "execute_result"
    }
   ],
   "source": [
    "d3"
   ]
  },
  {
   "cell_type": "code",
   "execution_count": 117,
   "id": "9a92c036",
   "metadata": {},
   "outputs": [
    {
     "data": {
      "text/plain": [
       "False"
      ]
     },
     "execution_count": 117,
     "metadata": {},
     "output_type": "execute_result"
    }
   ],
   "source": [
    "d3['k3']['No'] #Data Exytraction"
   ]
  },
  {
   "cell_type": "code",
   "execution_count": 118,
   "id": "c3cdd983",
   "metadata": {},
   "outputs": [],
   "source": [
    "#Key is possible to be as tuple and not list, dict, special characters"
   ]
  },
  {
   "cell_type": "code",
   "execution_count": 119,
   "id": "4b13c289",
   "metadata": {},
   "outputs": [],
   "source": [
    "#Keys are immutablein the sense that they are not list and dict"
   ]
  },
  {
   "cell_type": "code",
   "execution_count": 120,
   "id": "9e4757d2",
   "metadata": {},
   "outputs": [],
   "source": [
    "d={'input':5000,'unit':['mm','cm','m','km'],'cond':(True, False),'o1':1,'o2':50}"
   ]
  },
  {
   "cell_type": "code",
   "execution_count": 121,
   "id": "346ee356",
   "metadata": {},
   "outputs": [],
   "source": [
    "d['result']=\"Correct\""
   ]
  },
  {
   "cell_type": "code",
   "execution_count": 122,
   "id": "6d433328",
   "metadata": {},
   "outputs": [
    {
     "data": {
      "text/plain": [
       "{'input': 5000,\n",
       " 'unit': ['mm', 'cm', 'm', 'km'],\n",
       " 'cond': (True, False),\n",
       " 'o1': 1,\n",
       " 'o2': 50,\n",
       " 'result': 'Correct'}"
      ]
     },
     "execution_count": 122,
     "metadata": {},
     "output_type": "execute_result"
    }
   ],
   "source": [
    "d"
   ]
  },
  {
   "cell_type": "code",
   "execution_count": 124,
   "id": "af2e072e",
   "metadata": {},
   "outputs": [
    {
     "ename": "TypeError",
     "evalue": "unsupported operand type(s) for +: 'dict' and 'dict'",
     "output_type": "error",
     "traceback": [
      "\u001b[1;31m---------------------------------------------------------------------------\u001b[0m",
      "\u001b[1;31mTypeError\u001b[0m                                 Traceback (most recent call last)",
      "Input \u001b[1;32mIn [124]\u001b[0m, in \u001b[0;36m<cell line: 1>\u001b[1;34m()\u001b[0m\n\u001b[1;32m----> 1\u001b[0m \u001b[43md\u001b[49m\u001b[38;5;241;43m+\u001b[39;49m\u001b[43md2\u001b[49m\n",
      "\u001b[1;31mTypeError\u001b[0m: unsupported operand type(s) for +: 'dict' and 'dict'"
     ]
    }
   ],
   "source": [
    "d+d2 #concatenation operation not possible in case of dictionary"
   ]
  },
  {
   "cell_type": "code",
   "execution_count": 126,
   "id": "bd4d8541",
   "metadata": {},
   "outputs": [
    {
     "data": {
      "text/plain": [
       "dict_keys(['input', 'unit', 'cond', 'o1', 'o2', 'result'])"
      ]
     },
     "execution_count": 126,
     "metadata": {},
     "output_type": "execute_result"
    }
   ],
   "source": [
    "d.keys() #Gives list all keys"
   ]
  },
  {
   "cell_type": "code",
   "execution_count": 127,
   "id": "68ccb514",
   "metadata": {},
   "outputs": [
    {
     "data": {
      "text/plain": [
       "dict_values([5000, ['mm', 'cm', 'm', 'km'], (True, False), 1, 50, 'Correct'])"
      ]
     },
     "execution_count": 127,
     "metadata": {},
     "output_type": "execute_result"
    }
   ],
   "source": [
    "d.values() #Gives only values"
   ]
  },
  {
   "cell_type": "code",
   "execution_count": 128,
   "id": "eba914e3",
   "metadata": {},
   "outputs": [
    {
     "data": {
      "text/plain": [
       "dict_items([('input', 5000), ('unit', ['mm', 'cm', 'm', 'km']), ('cond', (True, False)), ('o1', 1), ('o2', 50), ('result', 'Correct')])"
      ]
     },
     "execution_count": 128,
     "metadata": {},
     "output_type": "execute_result"
    }
   ],
   "source": [
    "d.items() #list of the tuples as output"
   ]
  },
  {
   "cell_type": "code",
   "execution_count": 129,
   "id": "2a79bfd1",
   "metadata": {},
   "outputs": [],
   "source": [
    "#Set"
   ]
  },
  {
   "cell_type": "code",
   "execution_count": 133,
   "id": "6ff7fcbb",
   "metadata": {},
   "outputs": [],
   "source": [
    "s={1,5,5,1,8,4,5,5,4,4,8,'k'}"
   ]
  },
  {
   "cell_type": "code",
   "execution_count": 136,
   "id": "3d868693",
   "metadata": {},
   "outputs": [
    {
     "data": {
      "text/plain": [
       "{1, 4, 5, 8, 'k'}"
      ]
     },
     "execution_count": 136,
     "metadata": {},
     "output_type": "execute_result"
    }
   ],
   "source": [
    "s #removes repetative values from the output and gives unique entities"
   ]
  },
  {
   "cell_type": "code",
   "execution_count": 137,
   "id": "f5997a76",
   "metadata": {},
   "outputs": [
    {
     "data": {
      "text/plain": [
       "set"
      ]
     },
     "execution_count": 137,
     "metadata": {},
     "output_type": "execute_result"
    }
   ],
   "source": [
    "type(s)"
   ]
  },
  {
   "cell_type": "code",
   "execution_count": 138,
   "id": "a526627f",
   "metadata": {},
   "outputs": [],
   "source": [
    "#NO its not given the sorted data"
   ]
  },
  {
   "cell_type": "code",
   "execution_count": 139,
   "id": "4fd1fe6d",
   "metadata": {},
   "outputs": [],
   "source": [
    "s2={5428,64,1,55,9584,34,6225,12,854}"
   ]
  },
  {
   "cell_type": "code",
   "execution_count": 140,
   "id": "5e1759cb",
   "metadata": {},
   "outputs": [
    {
     "data": {
      "text/plain": [
       "{1, 12, 34, 55, 64, 854, 5428, 6225, 9584}"
      ]
     },
     "execution_count": 140,
     "metadata": {},
     "output_type": "execute_result"
    }
   ],
   "source": [
    "s2"
   ]
  },
  {
   "cell_type": "code",
   "execution_count": 141,
   "id": "ee9b16d4",
   "metadata": {},
   "outputs": [],
   "source": [
    "s3={\"Nand\",548,5000,2,456,21,2,456}"
   ]
  },
  {
   "cell_type": "code",
   "execution_count": 142,
   "id": "a1063b52",
   "metadata": {},
   "outputs": [
    {
     "data": {
      "text/plain": [
       "{2, 21, 456, 5000, 548, 'Nand'}"
      ]
     },
     "execution_count": 142,
     "metadata": {},
     "output_type": "execute_result"
    }
   ],
   "source": [
    "s3"
   ]
  },
  {
   "cell_type": "code",
   "execution_count": 143,
   "id": "6c8ae60c",
   "metadata": {},
   "outputs": [],
   "source": [
    "#indexing is not possible "
   ]
  },
  {
   "cell_type": "code",
   "execution_count": 144,
   "id": "1eb694b7",
   "metadata": {},
   "outputs": [
    {
     "data": {
      "text/plain": [
       "[2, 548, 21, 456, 5000, 'Nand']"
      ]
     },
     "execution_count": 144,
     "metadata": {},
     "output_type": "execute_result"
    }
   ],
   "source": [
    "#Conversion of set into list\n",
    "list(s3)"
   ]
  },
  {
   "cell_type": "code",
   "execution_count": 145,
   "id": "7009c1a7",
   "metadata": {},
   "outputs": [
    {
     "data": {
      "text/plain": [
       "(2, 548, 21, 456, 5000, 'Nand')"
      ]
     },
     "execution_count": 145,
     "metadata": {},
     "output_type": "execute_result"
    }
   ],
   "source": [
    "tuple(s3)"
   ]
  },
  {
   "cell_type": "code",
   "execution_count": 146,
   "id": "b93a15df",
   "metadata": {},
   "outputs": [],
   "source": [
    "s2.add(56)"
   ]
  },
  {
   "cell_type": "code",
   "execution_count": 147,
   "id": "b630314f",
   "metadata": {},
   "outputs": [
    {
     "data": {
      "text/plain": [
       "{1, 12, 34, 55, 56, 64, 854, 5428, 6225, 9584}"
      ]
     },
     "execution_count": 147,
     "metadata": {},
     "output_type": "execute_result"
    }
   ],
   "source": [
    "s2"
   ]
  },
  {
   "cell_type": "code",
   "execution_count": 149,
   "id": "dfdb750f",
   "metadata": {},
   "outputs": [
    {
     "ename": "TypeError",
     "evalue": "unhashable type: 'list'",
     "output_type": "error",
     "traceback": [
      "\u001b[1;31m---------------------------------------------------------------------------\u001b[0m",
      "\u001b[1;31mTypeError\u001b[0m                                 Traceback (most recent call last)",
      "Input \u001b[1;32mIn [149]\u001b[0m, in \u001b[0;36m<cell line: 1>\u001b[1;34m()\u001b[0m\n\u001b[1;32m----> 1\u001b[0m \u001b[43ms2\u001b[49m\u001b[38;5;241;43m.\u001b[39;49m\u001b[43madd\u001b[49m\u001b[43m(\u001b[49m\u001b[43m[\u001b[49m\u001b[38;5;241;43m2\u001b[39;49m\u001b[43m,\u001b[49m\u001b[38;5;241;43m5\u001b[39;49m\u001b[43m,\u001b[49m\u001b[38;5;241;43m4\u001b[39;49m\u001b[43m,\u001b[49m\u001b[38;5;241;43m8\u001b[39;49m\u001b[43m]\u001b[49m\u001b[43m)\u001b[49m\n",
      "\u001b[1;31mTypeError\u001b[0m: unhashable type: 'list'"
     ]
    }
   ],
   "source": [
    "s2.add([2,5,4,8]) #Cant be add collection inside the set"
   ]
  },
  {
   "cell_type": "code",
   "execution_count": 150,
   "id": "c4eddf8f",
   "metadata": {},
   "outputs": [],
   "source": [
    "s2.add((1,5,8,7))"
   ]
  },
  {
   "cell_type": "code",
   "execution_count": 151,
   "id": "e3cb4dad",
   "metadata": {},
   "outputs": [],
   "source": [
    "#Tuple is possible to add into the set"
   ]
  },
  {
   "cell_type": "code",
   "execution_count": 157,
   "id": "21c89da4",
   "metadata": {},
   "outputs": [],
   "source": [
    "s2.remove(12)"
   ]
  },
  {
   "cell_type": "code",
   "execution_count": 158,
   "id": "8253827e",
   "metadata": {},
   "outputs": [],
   "source": [
    "s2.discard(556144)"
   ]
  },
  {
   "cell_type": "code",
   "execution_count": 159,
   "id": "8752e82b",
   "metadata": {},
   "outputs": [],
   "source": [
    "#Discard wont give error eve though it is not there in set\n",
    "#Whereas remove will give you the error if element is not there in set"
   ]
  },
  {
   "cell_type": "code",
   "execution_count": null,
   "id": "2bd45cbe",
   "metadata": {},
   "outputs": [],
   "source": []
  }
 ],
 "metadata": {
  "kernelspec": {
   "display_name": "Python 3 (ipykernel)",
   "language": "python",
   "name": "python3"
  },
  "language_info": {
   "codemirror_mode": {
    "name": "ipython",
    "version": 3
   },
   "file_extension": ".py",
   "mimetype": "text/x-python",
   "name": "python",
   "nbconvert_exporter": "python",
   "pygments_lexer": "ipython3",
   "version": "3.9.12"
  }
 },
 "nbformat": 4,
 "nbformat_minor": 5
}
