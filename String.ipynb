{
 "cells": [
  {
   "cell_type": "raw",
   "id": "d4b6448a",
   "metadata": {},
   "source": [
    "2022.10.20\n",
    "\n",
    "String Varible"
   ]
  },
  {
   "cell_type": "code",
   "execution_count": 3,
   "id": "536070e5",
   "metadata": {},
   "outputs": [],
   "source": [
    "s=\"ineuron\""
   ]
  },
  {
   "cell_type": "code",
   "execution_count": 4,
   "id": "c8a62d97",
   "metadata": {},
   "outputs": [
    {
     "data": {
      "text/plain": [
       "str"
      ]
     },
     "execution_count": 4,
     "metadata": {},
     "output_type": "execute_result"
    }
   ],
   "source": [
    "type(s)"
   ]
  },
  {
   "cell_type": "code",
   "execution_count": 5,
   "id": "4dba31d2",
   "metadata": {},
   "outputs": [
    {
     "data": {
      "text/plain": [
       "'i'"
      ]
     },
     "execution_count": 5,
     "metadata": {},
     "output_type": "execute_result"
    }
   ],
   "source": [
    "s[0] #index starts from 0, each and everything stored at some idnex"
   ]
  },
  {
   "cell_type": "code",
   "execution_count": 6,
   "id": "a77259f6",
   "metadata": {},
   "outputs": [],
   "source": [
    "#Forward index and backward index 0,1,2,3,... and ...-3,-2,-1"
   ]
  },
  {
   "cell_type": "code",
   "execution_count": 7,
   "id": "976eee70",
   "metadata": {},
   "outputs": [
    {
     "data": {
      "text/plain": [
       "'o'"
      ]
     },
     "execution_count": 7,
     "metadata": {},
     "output_type": "execute_result"
    }
   ],
   "source": [
    "s[5]"
   ]
  },
  {
   "cell_type": "code",
   "execution_count": 8,
   "id": "c188403e",
   "metadata": {},
   "outputs": [
    {
     "data": {
      "text/plain": [
       "'o'"
      ]
     },
     "execution_count": 8,
     "metadata": {},
     "output_type": "execute_result"
    }
   ],
   "source": [
    "s[-2]"
   ]
  },
  {
   "cell_type": "code",
   "execution_count": 9,
   "id": "81c21ab0",
   "metadata": {},
   "outputs": [],
   "source": [
    "#string is given in single as well as double quote"
   ]
  },
  {
   "cell_type": "code",
   "execution_count": 10,
   "id": "9d9248bc",
   "metadata": {},
   "outputs": [],
   "source": [
    "s1='Nandkumar'"
   ]
  },
  {
   "cell_type": "code",
   "execution_count": 11,
   "id": "d0675fc2",
   "metadata": {},
   "outputs": [
    {
     "data": {
      "text/plain": [
       "'m'"
      ]
     },
     "execution_count": 11,
     "metadata": {},
     "output_type": "execute_result"
    }
   ],
   "source": [
    "s1[-3]"
   ]
  },
  {
   "cell_type": "code",
   "execution_count": 12,
   "id": "cb260a95",
   "metadata": {},
   "outputs": [
    {
     "data": {
      "text/plain": [
       "'I am Nandkumar Patil\"s'"
      ]
     },
     "execution_count": 12,
     "metadata": {},
     "output_type": "execute_result"
    }
   ],
   "source": [
    "'I am Nandkumar Patil\"s'"
   ]
  },
  {
   "cell_type": "code",
   "execution_count": 13,
   "id": "20ec64ac",
   "metadata": {},
   "outputs": [],
   "source": [
    "#Try to enclose the complete sentence with double quotes if you are using single quote in between"
   ]
  },
  {
   "cell_type": "code",
   "execution_count": 14,
   "id": "c9240bee",
   "metadata": {},
   "outputs": [],
   "source": [
    "s2=\"My name is Nandkumar Patil'and I am an Engineer\""
   ]
  },
  {
   "cell_type": "code",
   "execution_count": 15,
   "id": "f739528f",
   "metadata": {},
   "outputs": [
    {
     "data": {
      "text/plain": [
       "\"My name is Nandkumar Patil'and I am an Engineer\""
      ]
     },
     "execution_count": 15,
     "metadata": {},
     "output_type": "execute_result"
    }
   ],
   "source": [
    "s2"
   ]
  },
  {
   "cell_type": "code",
   "execution_count": 16,
   "id": "196a7ebe",
   "metadata": {},
   "outputs": [
    {
     "data": {
      "text/plain": [
       "' '"
      ]
     },
     "execution_count": 16,
     "metadata": {},
     "output_type": "execute_result"
    }
   ],
   "source": [
    "s2[10]"
   ]
  },
  {
   "cell_type": "code",
   "execution_count": 17,
   "id": "4ce4a168",
   "metadata": {},
   "outputs": [
    {
     "data": {
      "text/plain": [
       "'a'"
      ]
     },
     "execution_count": 17,
     "metadata": {},
     "output_type": "execute_result"
    }
   ],
   "source": [
    "s2[12]"
   ]
  },
  {
   "cell_type": "code",
   "execution_count": 18,
   "id": "b2ec085d",
   "metadata": {},
   "outputs": [
    {
     "data": {
      "text/plain": [
       "'y na'"
      ]
     },
     "execution_count": 18,
     "metadata": {},
     "output_type": "execute_result"
    }
   ],
   "source": [
    "s2[1:5] #Serires and subset extraction from string with colon"
   ]
  },
  {
   "cell_type": "code",
   "execution_count": 19,
   "id": "cbce3bd7",
   "metadata": {},
   "outputs": [],
   "source": [
    "#Starts from a go till b but exclude the index b [a:b] Exclude the upper bound"
   ]
  },
  {
   "cell_type": "code",
   "execution_count": 20,
   "id": "b066968e",
   "metadata": {},
   "outputs": [
    {
     "data": {
      "text/plain": [
       "\"ei adua ai'n\""
      ]
     },
     "execution_count": 20,
     "metadata": {},
     "output_type": "execute_result"
    }
   ],
   "source": [
    "s2[6:30:2]"
   ]
  },
  {
   "cell_type": "code",
   "execution_count": 21,
   "id": "da600e47",
   "metadata": {},
   "outputs": [
    {
     "data": {
      "text/plain": [
       "'  am'"
      ]
     },
     "execution_count": 21,
     "metadata": {},
     "output_type": "execute_result"
    }
   ],
   "source": [
    "s2[2:20:5]"
   ]
  },
  {
   "cell_type": "code",
   "execution_count": 22,
   "id": "fde8dd65",
   "metadata": {},
   "outputs": [],
   "source": [
    "#starting point, uppper bound and step"
   ]
  },
  {
   "cell_type": "code",
   "execution_count": 23,
   "id": "3a5f1a04",
   "metadata": {},
   "outputs": [],
   "source": [
    "s3='NandkumarShantaramPatil'"
   ]
  },
  {
   "cell_type": "code",
   "execution_count": 24,
   "id": "14926a1e",
   "metadata": {},
   "outputs": [
    {
     "data": {
      "text/plain": [
       "'Nnkmr'"
      ]
     },
     "execution_count": 24,
     "metadata": {},
     "output_type": "execute_result"
    }
   ],
   "source": [
    "s3[0:10:2]"
   ]
  },
  {
   "cell_type": "code",
   "execution_count": 25,
   "id": "8eeaf06b",
   "metadata": {},
   "outputs": [
    {
     "data": {
      "text/plain": [
       "'NandkumarShanta'"
      ]
     },
     "execution_count": 25,
     "metadata": {},
     "output_type": "execute_result"
    }
   ],
   "source": [
    "s3[0:15:1]"
   ]
  },
  {
   "cell_type": "code",
   "execution_count": 26,
   "id": "0903008a",
   "metadata": {},
   "outputs": [
    {
     "data": {
      "text/plain": [
       "''"
      ]
     },
     "execution_count": 26,
     "metadata": {},
     "output_type": "execute_result"
    }
   ],
   "source": [
    "s3[0:15:-1] #Output is blank as both direction of jump and moving are contradicting so output is null"
   ]
  },
  {
   "cell_type": "code",
   "execution_count": 27,
   "id": "7e5af031",
   "metadata": {},
   "outputs": [
    {
     "data": {
      "text/plain": [
       "'ratnahSramukdna'"
      ]
     },
     "execution_count": 27,
     "metadata": {},
     "output_type": "execute_result"
    }
   ],
   "source": [
    "s3[15:0:-1] #MOving direction is same as jumping direction"
   ]
  },
  {
   "cell_type": "code",
   "execution_count": 28,
   "id": "bba7d22a",
   "metadata": {},
   "outputs": [
    {
     "data": {
      "text/plain": [
       "'rmk'"
      ]
     },
     "execution_count": 28,
     "metadata": {},
     "output_type": "execute_result"
    }
   ],
   "source": [
    "s3[8:2:-2]"
   ]
  },
  {
   "cell_type": "code",
   "execution_count": 29,
   "id": "51c6856a",
   "metadata": {},
   "outputs": [
    {
     "data": {
      "text/plain": [
       "'NandkumarShantaramPa'"
      ]
     },
     "execution_count": 29,
     "metadata": {},
     "output_type": "execute_result"
    }
   ],
   "source": [
    "s3[:-3] #upper bound is -3 and it skipped the character at position -3"
   ]
  },
  {
   "cell_type": "code",
   "execution_count": 30,
   "id": "04451899",
   "metadata": {},
   "outputs": [],
   "source": [
    "#Jumpsize is 1 by default if not mentioned\n",
    "#By default starting point is 0\n",
    "#If not mentioned then default jump direction is positive\n",
    "#Upper bound be default is maximum size of string+1"
   ]
  },
  {
   "cell_type": "code",
   "execution_count": 31,
   "id": "2a0b9748",
   "metadata": {},
   "outputs": [
    {
     "data": {
      "text/plain": [
       "'il'"
      ]
     },
     "execution_count": 31,
     "metadata": {},
     "output_type": "execute_result"
    }
   ],
   "source": [
    "s3[-2:]"
   ]
  },
  {
   "cell_type": "code",
   "execution_count": 32,
   "id": "0e6ca430",
   "metadata": {},
   "outputs": [
    {
     "data": {
      "text/plain": [
       "'NandkumarShantaramPatil'"
      ]
     },
     "execution_count": 32,
     "metadata": {},
     "output_type": "execute_result"
    }
   ],
   "source": [
    "s3[::1]"
   ]
  },
  {
   "cell_type": "code",
   "execution_count": 33,
   "id": "8d6b93e0",
   "metadata": {},
   "outputs": [
    {
     "data": {
      "text/plain": [
       "'litaPmaratnahSramukdnaN'"
      ]
     },
     "execution_count": 33,
     "metadata": {},
     "output_type": "execute_result"
    }
   ],
   "source": [
    "s3[::-1]"
   ]
  },
  {
   "cell_type": "code",
   "execution_count": 34,
   "id": "642f6b77",
   "metadata": {},
   "outputs": [],
   "source": [
    "#When only jump direction is given then lower bound and upper bound will be considered accordingly"
   ]
  },
  {
   "cell_type": "code",
   "execution_count": 35,
   "id": "6d4be1f5",
   "metadata": {},
   "outputs": [
    {
     "data": {
      "text/plain": [
       "'norueni'"
      ]
     },
     "execution_count": 35,
     "metadata": {},
     "output_type": "execute_result"
    }
   ],
   "source": [
    "s[::-1]"
   ]
  },
  {
   "cell_type": "code",
   "execution_count": 36,
   "id": "fa40640e",
   "metadata": {},
   "outputs": [
    {
     "data": {
      "text/plain": [
       "'ramukdnaN'"
      ]
     },
     "execution_count": 36,
     "metadata": {},
     "output_type": "execute_result"
    }
   ],
   "source": [
    "s1[::-1]"
   ]
  },
  {
   "cell_type": "code",
   "execution_count": 37,
   "id": "6877fbe6",
   "metadata": {},
   "outputs": [
    {
     "data": {
      "text/plain": [
       "'ineuron'"
      ]
     },
     "execution_count": 37,
     "metadata": {},
     "output_type": "execute_result"
    }
   ],
   "source": [
    "s"
   ]
  },
  {
   "cell_type": "code",
   "execution_count": 38,
   "id": "871deddd",
   "metadata": {},
   "outputs": [
    {
     "data": {
      "text/plain": [
       "'norueni'"
      ]
     },
     "execution_count": 38,
     "metadata": {},
     "output_type": "execute_result"
    }
   ],
   "source": [
    "s[::-1]  #reverse the entire string"
   ]
  },
  {
   "cell_type": "code",
   "execution_count": 39,
   "id": "b841e26e",
   "metadata": {},
   "outputs": [
    {
     "data": {
      "text/plain": [
       "''"
      ]
     },
     "execution_count": 39,
     "metadata": {},
     "output_type": "execute_result"
    }
   ],
   "source": [
    "s[-2:-7:1] # Contradiction between moving direction and jumping direction"
   ]
  },
  {
   "cell_type": "code",
   "execution_count": 40,
   "id": "0e35c30c",
   "metadata": {},
   "outputs": [
    {
     "data": {
      "text/plain": [
       "'ineur'"
      ]
     },
     "execution_count": 40,
     "metadata": {},
     "output_type": "execute_result"
    }
   ],
   "source": [
    "s[-7:-2:1] #Both Jumping direction and moving direction is same"
   ]
  },
  {
   "cell_type": "code",
   "execution_count": 41,
   "id": "4f9f11da",
   "metadata": {},
   "outputs": [
    {
     "data": {
      "text/plain": [
       "'o'"
      ]
     },
     "execution_count": 41,
     "metadata": {},
     "output_type": "execute_result"
    }
   ],
   "source": [
    "s[-2] #upper bound is always excluded from slicing operation"
   ]
  },
  {
   "cell_type": "code",
   "execution_count": 42,
   "id": "b8700728",
   "metadata": {},
   "outputs": [
    {
     "data": {
      "text/plain": [
       "''"
      ]
     },
     "execution_count": 42,
     "metadata": {},
     "output_type": "execute_result"
    }
   ],
   "source": [
    "s[5:0] #Contradiction between the moving anf jumping direction"
   ]
  },
  {
   "cell_type": "code",
   "execution_count": 43,
   "id": "ed32569f",
   "metadata": {},
   "outputs": [
    {
     "data": {
      "text/plain": [
       "''"
      ]
     },
     "execution_count": 43,
     "metadata": {},
     "output_type": "execute_result"
    }
   ],
   "source": [
    "s[-5:0:1]"
   ]
  },
  {
   "cell_type": "code",
   "execution_count": 44,
   "id": "b3de24c6",
   "metadata": {},
   "outputs": [],
   "source": [
    "#s3[-7:0:1] for s=ineuron\n",
    "#The scale showed and the explanation is wrong I think. Moving from -7 to 0 is shown in the wrong way. I think here there is no contradiction issue whereas the issue is with the same location of -7 and 0."
   ]
  },
  {
   "cell_type": "code",
   "execution_count": 45,
   "id": "a1f369cd",
   "metadata": {},
   "outputs": [
    {
     "ename": "TypeError",
     "evalue": "can only concatenate str (not \"int\") to str",
     "output_type": "error",
     "traceback": [
      "\u001b[1;31m---------------------------------------------------------------------------\u001b[0m",
      "\u001b[1;31mTypeError\u001b[0m                                 Traceback (most recent call last)",
      "Input \u001b[1;32mIn [45]\u001b[0m, in \u001b[0;36m<cell line: 1>\u001b[1;34m()\u001b[0m\n\u001b[1;32m----> 1\u001b[0m \u001b[43ms\u001b[49m\u001b[38;5;241;43m+\u001b[39;49m\u001b[38;5;241;43m1\u001b[39;49m\n",
      "\u001b[1;31mTypeError\u001b[0m: can only concatenate str (not \"int\") to str"
     ]
    }
   ],
   "source": [
    "s+1 #addition of numerical value and string is not possible"
   ]
  },
  {
   "cell_type": "code",
   "execution_count": 46,
   "id": "1305f8c5",
   "metadata": {},
   "outputs": [
    {
     "data": {
      "text/plain": [
       "'ineuron1'"
      ]
     },
     "execution_count": 46,
     "metadata": {},
     "output_type": "execute_result"
    }
   ],
   "source": [
    "#python is strong type language\n",
    "s+'1'"
   ]
  },
  {
   "cell_type": "code",
   "execution_count": 47,
   "id": "842b5ae2",
   "metadata": {},
   "outputs": [],
   "source": [
    "#Concatenation operation can be done on any strings but for that we need to have 2 strings"
   ]
  },
  {
   "cell_type": "code",
   "execution_count": 48,
   "id": "2856acfd",
   "metadata": {},
   "outputs": [
    {
     "data": {
      "text/plain": [
       "'ineuron1'"
      ]
     },
     "execution_count": 48,
     "metadata": {},
     "output_type": "execute_result"
    }
   ],
   "source": [
    "s + str(1) #Type casting function todefine or change the datatype for data instantaly"
   ]
  },
  {
   "cell_type": "code",
   "execution_count": 49,
   "id": "e35c00cc",
   "metadata": {},
   "outputs": [
    {
     "data": {
      "text/plain": [
       "'i'"
      ]
     },
     "execution_count": 49,
     "metadata": {},
     "output_type": "execute_result"
    }
   ],
   "source": [
    "s[0::-1] #Need Solution"
   ]
  },
  {
   "cell_type": "code",
   "execution_count": 50,
   "id": "f6540deb",
   "metadata": {},
   "outputs": [
    {
     "data": {
      "text/plain": [
       "''"
      ]
     },
     "execution_count": 50,
     "metadata": {},
     "output_type": "execute_result"
    }
   ],
   "source": [
    "s[:9:-1]"
   ]
  },
  {
   "cell_type": "code",
   "execution_count": 51,
   "id": "da3cb2fd",
   "metadata": {},
   "outputs": [
    {
     "data": {
      "text/plain": [
       "7"
      ]
     },
     "execution_count": 51,
     "metadata": {},
     "output_type": "execute_result"
    }
   ],
   "source": [
    "#To find the length of complete string counts the number of characters\n",
    "len(s)"
   ]
  },
  {
   "cell_type": "code",
   "execution_count": 52,
   "id": "63268fb9",
   "metadata": {},
   "outputs": [
    {
     "data": {
      "text/plain": [
       "'ineuronineuron'"
      ]
     },
     "execution_count": 52,
     "metadata": {},
     "output_type": "execute_result"
    }
   ],
   "source": [
    "s*2 #repeats the string that much times "
   ]
  },
  {
   "cell_type": "code",
   "execution_count": 53,
   "id": "6d801b6e",
   "metadata": {},
   "outputs": [
    {
     "data": {
      "text/plain": [
       "1"
      ]
     },
     "execution_count": 53,
     "metadata": {},
     "output_type": "execute_result"
    }
   ],
   "source": [
    "#variable.tab gives different functions\n",
    "s.count('i') #gives the count of the argument into the string"
   ]
  },
  {
   "cell_type": "code",
   "execution_count": 54,
   "id": "afdaf3fc",
   "metadata": {},
   "outputs": [],
   "source": [
    "#Return the number of non-overlapping occurrences of substring sub instring S[start:end].  Optional arguments start and end areinterpreted as in slice notation."
   ]
  },
  {
   "cell_type": "code",
   "execution_count": 55,
   "id": "141ff232",
   "metadata": {},
   "outputs": [
    {
     "data": {
      "text/plain": [
       "6"
      ]
     },
     "execution_count": 55,
     "metadata": {},
     "output_type": "execute_result"
    }
   ],
   "source": [
    "s3.count('a')"
   ]
  },
  {
   "cell_type": "code",
   "execution_count": 56,
   "id": "a828fbe8",
   "metadata": {},
   "outputs": [
    {
     "data": {
      "text/plain": [
       "1"
      ]
     },
     "execution_count": 56,
     "metadata": {},
     "output_type": "execute_result"
    }
   ],
   "source": [
    "s3.count('Nan') #Case sensitive "
   ]
  },
  {
   "cell_type": "code",
   "execution_count": 57,
   "id": "7afd615e",
   "metadata": {},
   "outputs": [
    {
     "data": {
      "text/plain": [
       "'NandkumarShantaramPatil'"
      ]
     },
     "execution_count": 57,
     "metadata": {},
     "output_type": "execute_result"
    }
   ],
   "source": [
    "s3"
   ]
  },
  {
   "cell_type": "code",
   "execution_count": 58,
   "id": "c68533db",
   "metadata": {},
   "outputs": [
    {
     "data": {
      "text/plain": [
       "['ineu', 'on']"
      ]
     },
     "execution_count": 58,
     "metadata": {},
     "output_type": "execute_result"
    }
   ],
   "source": [
    "s.split('r') #returns the list of the substring which are created by considering the separator argument"
   ]
  },
  {
   "cell_type": "code",
   "execution_count": 59,
   "id": "8a4f755c",
   "metadata": {},
   "outputs": [
    {
     "data": {
      "text/plain": [
       "['i', 'euro', '']"
      ]
     },
     "execution_count": 59,
     "metadata": {},
     "output_type": "execute_result"
    }
   ],
   "source": [
    "s.split('n')"
   ]
  },
  {
   "cell_type": "code",
   "execution_count": 60,
   "id": "7d5436a2",
   "metadata": {},
   "outputs": [
    {
     "ename": "SyntaxError",
     "evalue": "EOL while scanning string literal (261113669.py, line 1)",
     "output_type": "error",
     "traceback": [
      "\u001b[1;36m  Input \u001b[1;32mIn [60]\u001b[1;36m\u001b[0m\n\u001b[1;33m    'The Samsung Group[3] (or simply Samsung, stylized as SΛMSUNG) (Korean: 삼성 [samsʌŋ]) is a South Korean multinational manufacturing conglomerate headquartered in Samsung Town, Seoul, South Korea.[1] It comprises numerous affiliated businesses,[1] most of them united under the Samsung brand, and is the largest South Korean chaebol (business conglomerate). As of 2020, Samsung has the 8th highest global brand value.[4]\u001b[0m\n\u001b[1;37m                                                                                                                                                                                                                                                                                                                                                                                                                                      ^\u001b[0m\n\u001b[1;31mSyntaxError\u001b[0m\u001b[1;31m:\u001b[0m EOL while scanning string literal\n"
     ]
    }
   ],
   "source": [
    "'The Samsung Group[3] (or simply Samsung, stylized as SΛMSUNG) (Korean: 삼성 [samsʌŋ]) is a South Korean multinational manufacturing conglomerate headquartered in Samsung Town, Seoul, South Korea.[1] It comprises numerous affiliated businesses,[1] most of them united under the Samsung brand, and is the largest South Korean chaebol (business conglomerate). As of 2020, Samsung has the 8th highest global brand value.[4]\n",
    "\n",
    "'Samsung was founded by Lee Byung-chul in 1938 as a trading company. Over the next three decades, the group diversified into areas including food processing, textiles, insurance, securities, and retail. Samsung entered the electronics industry in the late 1960s and the construction and shipbuilding industries in the mid-1970s; these areas would drive its subsequent growth. Following Lee's death in 1987, Samsung was separated into five business groups – Samsung Group, Shinsegae Group, CJ Group and Hansol Group, and Joongang Group."
   ]
  },
  {
   "cell_type": "code",
   "execution_count": 61,
   "id": "9b861757",
   "metadata": {},
   "outputs": [],
   "source": [
    "sw='The Samsung Group[3] (or simply Samsung, stylized as SΛMSUNG) (Korean: 삼성 [samsʌŋ]) is a South Korean multinational manufacturing conglomerate headquartered in Samsung Town, Seoul, South Korea.[1] It comprises numerous affiliated businesses,[1] most of them united under the Samsung brand, and is the largest South Korean chaebol (business conglomerate). As of 2020, Samsung has the 8th highest global brand value.[4]'"
   ]
  },
  {
   "cell_type": "code",
   "execution_count": 62,
   "id": "0ad2890f",
   "metadata": {},
   "outputs": [
    {
     "data": {
      "text/plain": [
       "'The Samsung Group[3] (or simply Samsung, stylized as SΛMSUNG) (Korean: 삼성 [samsʌŋ]) is a South Korean multinational manufacturing conglomerate headquartered in Samsung Town, Seoul, South Korea.[1] It comprises numerous affiliated businesses,[1] most of them united under the Samsung brand, and is the largest South Korean chaebol (business conglomerate). As of 2020, Samsung has the 8th highest global brand value.[4]'"
      ]
     },
     "execution_count": 62,
     "metadata": {},
     "output_type": "execute_result"
    }
   ],
   "source": [
    "sw"
   ]
  },
  {
   "cell_type": "code",
   "execution_count": 63,
   "id": "6d677a0a",
   "metadata": {},
   "outputs": [
    {
     "data": {
      "text/plain": [
       "['The',\n",
       " 'Samsung',\n",
       " 'Group[3]',\n",
       " '(or',\n",
       " 'simply',\n",
       " 'Samsung,',\n",
       " 'stylized',\n",
       " 'as',\n",
       " 'SΛMSUNG)',\n",
       " '(Korean:',\n",
       " '삼성',\n",
       " '[samsʌŋ])',\n",
       " 'is',\n",
       " 'a',\n",
       " 'South',\n",
       " 'Korean',\n",
       " 'multinational',\n",
       " 'manufacturing',\n",
       " 'conglomerate',\n",
       " 'headquartered',\n",
       " 'in',\n",
       " 'Samsung',\n",
       " 'Town,',\n",
       " 'Seoul,',\n",
       " 'South',\n",
       " 'Korea.[1]',\n",
       " 'It',\n",
       " 'comprises',\n",
       " 'numerous',\n",
       " 'affiliated',\n",
       " 'businesses,[1]',\n",
       " 'most',\n",
       " 'of',\n",
       " 'them',\n",
       " 'united',\n",
       " 'under',\n",
       " 'the',\n",
       " 'Samsung',\n",
       " 'brand,',\n",
       " 'and',\n",
       " 'is',\n",
       " 'the',\n",
       " 'largest',\n",
       " 'South',\n",
       " 'Korean',\n",
       " 'chaebol',\n",
       " '(business',\n",
       " 'conglomerate).',\n",
       " 'As',\n",
       " 'of',\n",
       " '2020,',\n",
       " 'Samsung',\n",
       " 'has',\n",
       " 'the',\n",
       " '8th',\n",
       " 'highest',\n",
       " 'global',\n",
       " 'brand',\n",
       " 'value.[4]']"
      ]
     },
     "execution_count": 63,
     "metadata": {},
     "output_type": "execute_result"
    }
   ],
   "source": [
    "sw.split(\" \") #separator as argument in the function"
   ]
  },
  {
   "cell_type": "code",
   "execution_count": 64,
   "id": "57c51c37",
   "metadata": {},
   "outputs": [],
   "source": [
    "#For multiline data under string variable use triple quote whivh is also used for multiline commenting"
   ]
  },
  {
   "cell_type": "code",
   "execution_count": 65,
   "id": "74dc1503",
   "metadata": {},
   "outputs": [],
   "source": [
    "s4=\"\"\"The Samsung Group[3] (or simply Samsung, stylized as SΛMSUNG) (Korean: 삼성 [samsʌŋ]) is a South Korean multinational manufacturing conglomerate headquartered in Samsung Town, Seoul, South Korea.[1] It comprises numerous affiliated businesses,[1] most of them united under the Samsung brand, and is the largest South Korean chaebol (business conglomerate). As of 2020, Samsung has the 8th highest global brand value.[4]\n",
    "\n",
    "Samsung was founded by Lee Byung-chul in 1938 as a trading company. Over the next three decades, the group diversified into areas including food processing, textiles, insurance, securities, and retail. Samsung entered the electronics industry in the late 1960s and the construction and shipbuilding industries in the mid-1970s; these areas would drive its subsequent growth. Following Lee's death in 1987, Samsung was separated into five business groups – Samsung Group, Shinsegae Group, CJ Group and Hansol Group, and Joongang Group.\"\"\""
   ]
  },
  {
   "cell_type": "code",
   "execution_count": 66,
   "id": "141f5b34",
   "metadata": {},
   "outputs": [
    {
     "data": {
      "text/plain": [
       "\"The Samsung Group[3] (or simply Samsung, stylized as SΛMSUNG) (Korean: 삼성 [samsʌŋ]) is a South Korean multinational manufacturing conglomerate headquartered in Samsung Town, Seoul, South Korea.[1] It comprises numerous affiliated businesses,[1] most of them united under the Samsung brand, and is the largest South Korean chaebol (business conglomerate). As of 2020, Samsung has the 8th highest global brand value.[4]\\n\\nSamsung was founded by Lee Byung-chul in 1938 as a trading company. Over the next three decades, the group diversified into areas including food processing, textiles, insurance, securities, and retail. Samsung entered the electronics industry in the late 1960s and the construction and shipbuilding industries in the mid-1970s; these areas would drive its subsequent growth. Following Lee's death in 1987, Samsung was separated into five business groups – Samsung Group, Shinsegae Group, CJ Group and Hansol Group, and Joongang Group.\""
      ]
     },
     "execution_count": 66,
     "metadata": {},
     "output_type": "execute_result"
    }
   ],
   "source": [
    "s4"
   ]
  },
  {
   "cell_type": "code",
   "execution_count": 67,
   "id": "8e9b3b6e",
   "metadata": {},
   "outputs": [
    {
     "data": {
      "text/plain": [
       "'INEURON'"
      ]
     },
     "execution_count": 67,
     "metadata": {},
     "output_type": "execute_result"
    }
   ],
   "source": [
    "s.upper()"
   ]
  },
  {
   "cell_type": "code",
   "execution_count": 68,
   "id": "3ca388e3",
   "metadata": {},
   "outputs": [
    {
     "data": {
      "text/plain": [
       "'ineuron'"
      ]
     },
     "execution_count": 68,
     "metadata": {},
     "output_type": "execute_result"
    }
   ],
   "source": [
    "s.lower()"
   ]
  },
  {
   "cell_type": "code",
   "execution_count": 69,
   "id": "674e861d",
   "metadata": {},
   "outputs": [],
   "source": [
    "s=s.upper()"
   ]
  },
  {
   "cell_type": "code",
   "execution_count": 70,
   "id": "591225d1",
   "metadata": {},
   "outputs": [
    {
     "data": {
      "text/plain": [
       "'INEURON'"
      ]
     },
     "execution_count": 70,
     "metadata": {},
     "output_type": "execute_result"
    }
   ],
   "source": [
    "s"
   ]
  },
  {
   "cell_type": "code",
   "execution_count": 71,
   "id": "ac69a2ec",
   "metadata": {},
   "outputs": [
    {
     "data": {
      "text/plain": [
       "'ineuron'"
      ]
     },
     "execution_count": 71,
     "metadata": {},
     "output_type": "execute_result"
    }
   ],
   "source": [
    "s.lower()"
   ]
  },
  {
   "cell_type": "code",
   "execution_count": 72,
   "id": "1193752e",
   "metadata": {},
   "outputs": [
    {
     "data": {
      "text/plain": [
       "'Nandkumar'"
      ]
     },
     "execution_count": 72,
     "metadata": {},
     "output_type": "execute_result"
    }
   ],
   "source": [
    "s1"
   ]
  },
  {
   "cell_type": "code",
   "execution_count": 73,
   "id": "c438fbc8",
   "metadata": {},
   "outputs": [
    {
     "data": {
      "text/plain": [
       "'Nandkumar'"
      ]
     },
     "execution_count": 73,
     "metadata": {},
     "output_type": "execute_result"
    }
   ],
   "source": [
    "s1.title() #First letter will be capital or upper case each word is title case"
   ]
  },
  {
   "cell_type": "code",
   "execution_count": 74,
   "id": "3560f6cc",
   "metadata": {},
   "outputs": [],
   "source": [
    "s=s.capitalize() # gives the only first character is upper case"
   ]
  },
  {
   "cell_type": "code",
   "execution_count": 75,
   "id": "4c06f850",
   "metadata": {},
   "outputs": [
    {
     "data": {
      "text/plain": [
       "'Ineuron'"
      ]
     },
     "execution_count": 75,
     "metadata": {},
     "output_type": "execute_result"
    }
   ],
   "source": [
    "s"
   ]
  },
  {
   "cell_type": "code",
   "execution_count": 76,
   "id": "99a2ef17",
   "metadata": {},
   "outputs": [
    {
     "data": {
      "text/plain": [
       "'iNEURON'"
      ]
     },
     "execution_count": 76,
     "metadata": {},
     "output_type": "execute_result"
    }
   ],
   "source": [
    "s.swapcase()"
   ]
  },
  {
   "cell_type": "code",
   "execution_count": 77,
   "id": "9719ded4",
   "metadata": {},
   "outputs": [
    {
     "data": {
      "text/plain": [
       "<reversed at 0x1c0c27f9910>"
      ]
     },
     "execution_count": 77,
     "metadata": {},
     "output_type": "execute_result"
    }
   ],
   "source": [
    "reversed(s)"
   ]
  },
  {
   "cell_type": "code",
   "execution_count": 78,
   "id": "0b166f84",
   "metadata": {},
   "outputs": [
    {
     "data": {
      "text/plain": [
       "'noruenI'"
      ]
     },
     "execution_count": 78,
     "metadata": {},
     "output_type": "execute_result"
    }
   ],
   "source": [
    "''.join(reversed(s))"
   ]
  },
  {
   "cell_type": "code",
   "execution_count": 79,
   "id": "cb564562",
   "metadata": {},
   "outputs": [],
   "source": [
    "s5=\"     Nand   kumar       \""
   ]
  },
  {
   "cell_type": "code",
   "execution_count": 80,
   "id": "ac4175ea",
   "metadata": {},
   "outputs": [
    {
     "data": {
      "text/plain": [
       "'     Nand   kumar       '"
      ]
     },
     "execution_count": 80,
     "metadata": {},
     "output_type": "execute_result"
    }
   ],
   "source": [
    "s5"
   ]
  },
  {
   "cell_type": "code",
   "execution_count": 81,
   "id": "9e477f26",
   "metadata": {},
   "outputs": [
    {
     "data": {
      "text/plain": [
       "'Nand   kumar'"
      ]
     },
     "execution_count": 81,
     "metadata": {},
     "output_type": "execute_result"
    }
   ],
   "source": [
    "s5.strip() #Remove spaces on both left and right"
   ]
  },
  {
   "cell_type": "code",
   "execution_count": 82,
   "id": "f6120caf",
   "metadata": {},
   "outputs": [
    {
     "data": {
      "text/plain": [
       "'Nand   kumar       '"
      ]
     },
     "execution_count": 82,
     "metadata": {},
     "output_type": "execute_result"
    }
   ],
   "source": [
    "s5.lstrip() #Remove the space on left"
   ]
  },
  {
   "cell_type": "code",
   "execution_count": 83,
   "id": "ad147a4d",
   "metadata": {},
   "outputs": [
    {
     "data": {
      "text/plain": [
       "'     Nand   kumar'"
      ]
     },
     "execution_count": 83,
     "metadata": {},
     "output_type": "execute_result"
    }
   ],
   "source": [
    "s5.rstrip() #Remove the space on right"
   ]
  },
  {
   "cell_type": "code",
   "execution_count": 84,
   "id": "968b9cbe",
   "metadata": {},
   "outputs": [
    {
     "data": {
      "text/plain": [
       "'N a n d k u m a r'"
      ]
     },
     "execution_count": 84,
     "metadata": {},
     "output_type": "execute_result"
    }
   ],
   "source": [
    "\" \".join(\"Nandkumar\")"
   ]
  },
  {
   "cell_type": "code",
   "execution_count": 85,
   "id": "6e65637a",
   "metadata": {},
   "outputs": [],
   "source": [
    "s6=\"Nand\""
   ]
  },
  {
   "cell_type": "code",
   "execution_count": 86,
   "id": "587f8aa1",
   "metadata": {},
   "outputs": [
    {
     "data": {
      "text/plain": [
       "'********Nand********'"
      ]
     },
     "execution_count": 86,
     "metadata": {},
     "output_type": "execute_result"
    }
   ],
   "source": [
    "s6.center(20,'*')"
   ]
  },
  {
   "cell_type": "code",
   "execution_count": 87,
   "id": "6ca1701a",
   "metadata": {},
   "outputs": [],
   "source": [
    "s7=\"12548\""
   ]
  },
  {
   "cell_type": "code",
   "execution_count": 88,
   "id": "a14fc046",
   "metadata": {},
   "outputs": [
    {
     "data": {
      "text/plain": [
       "True"
      ]
     },
     "execution_count": 88,
     "metadata": {},
     "output_type": "execute_result"
    }
   ],
   "source": [
    "s7.isdigit()"
   ]
  },
  {
   "cell_type": "code",
   "execution_count": 97,
   "id": "57568cd9",
   "metadata": {},
   "outputs": [],
   "source": [
    "s7='jdh23456Nandjsjh'"
   ]
  },
  {
   "cell_type": "code",
   "execution_count": 98,
   "id": "87a4afc7",
   "metadata": {},
   "outputs": [
    {
     "data": {
      "text/plain": [
       "False"
      ]
     },
     "execution_count": 98,
     "metadata": {},
     "output_type": "execute_result"
    }
   ],
   "source": [
    "s7.isdigit()"
   ]
  },
  {
   "cell_type": "code",
   "execution_count": 99,
   "id": "9e20b820",
   "metadata": {},
   "outputs": [
    {
     "data": {
      "text/plain": [
       "False"
      ]
     },
     "execution_count": 99,
     "metadata": {},
     "output_type": "execute_result"
    }
   ],
   "source": [
    "s7.isalpha()"
   ]
  },
  {
   "cell_type": "code",
   "execution_count": 100,
   "id": "50ac2aef",
   "metadata": {},
   "outputs": [
    {
     "data": {
      "text/plain": [
       "True"
      ]
     },
     "execution_count": 100,
     "metadata": {},
     "output_type": "execute_result"
    }
   ],
   "source": [
    "s7.isalnum()"
   ]
  },
  {
   "cell_type": "code",
   "execution_count": 101,
   "id": "d4a443ae",
   "metadata": {},
   "outputs": [
    {
     "data": {
      "text/plain": [
       "False"
      ]
     },
     "execution_count": 101,
     "metadata": {},
     "output_type": "execute_result"
    }
   ],
   "source": [
    "s7.startswith('1')"
   ]
  },
  {
   "cell_type": "code",
   "execution_count": 102,
   "id": "57342be8",
   "metadata": {},
   "outputs": [],
   "source": [
    "#Python is case sensitive language\n",
    "#numbers can be alphanumeric whereas "
   ]
  },
  {
   "cell_type": "code",
   "execution_count": 103,
   "id": "06b1e999",
   "metadata": {},
   "outputs": [
    {
     "data": {
      "text/plain": [
       "False"
      ]
     },
     "execution_count": 103,
     "metadata": {},
     "output_type": "execute_result"
    }
   ],
   "source": [
    "s7.endswith('6')"
   ]
  },
  {
   "cell_type": "code",
   "execution_count": 106,
   "id": "b0927334",
   "metadata": {},
   "outputs": [],
   "source": [
    "#isdigit and isnumeric \n",
    "#isdigit = All characters in the string are digits and there is atleast one character\n",
    "#isnumeric="
   ]
  },
  {
   "cell_type": "code",
   "execution_count": 104,
   "id": "cb5e206e",
   "metadata": {},
   "outputs": [
    {
     "data": {
      "text/plain": [
       "False"
      ]
     },
     "execution_count": 104,
     "metadata": {},
     "output_type": "execute_result"
    }
   ],
   "source": [
    "s7.isdigit()"
   ]
  },
  {
   "cell_type": "code",
   "execution_count": 105,
   "id": "18614885",
   "metadata": {},
   "outputs": [
    {
     "data": {
      "text/plain": [
       "False"
      ]
     },
     "execution_count": 105,
     "metadata": {},
     "output_type": "execute_result"
    }
   ],
   "source": [
    "s7.isnumeric()"
   ]
  },
  {
   "cell_type": "code",
   "execution_count": 125,
   "id": "2a67ff22",
   "metadata": {},
   "outputs": [],
   "source": [
    "st='123456'"
   ]
  },
  {
   "cell_type": "code",
   "execution_count": 126,
   "id": "dc5c4772",
   "metadata": {},
   "outputs": [
    {
     "data": {
      "text/plain": [
       "False"
      ]
     },
     "execution_count": 126,
     "metadata": {},
     "output_type": "execute_result"
    }
   ],
   "source": [
    "st.isdigit()"
   ]
  },
  {
   "cell_type": "code",
   "execution_count": 127,
   "id": "a9801962",
   "metadata": {},
   "outputs": [
    {
     "data": {
      "text/plain": [
       "False"
      ]
     },
     "execution_count": 127,
     "metadata": {},
     "output_type": "execute_result"
    }
   ],
   "source": [
    "st.isnumeric()"
   ]
  },
  {
   "cell_type": "code",
   "execution_count": 130,
   "id": "58d1e5b4",
   "metadata": {},
   "outputs": [
    {
     "data": {
      "text/plain": [
       "True"
      ]
     },
     "execution_count": 130,
     "metadata": {},
     "output_type": "execute_result"
    }
   ],
   "source": [
    "st.isascii() #Anything typed from keyboard is ASCII characters"
   ]
  },
  {
   "cell_type": "code",
   "execution_count": 134,
   "id": "06ee69a3",
   "metadata": {},
   "outputs": [],
   "source": [
    "#isspace is not alpha neither numeric\n",
    "#isspace checks if whole string is space or not\n",
    "#isalnum is or condition statement where alphabet and numeric check"
   ]
  },
  {
   "cell_type": "code",
   "execution_count": 138,
   "id": "37408d6f",
   "metadata": {},
   "outputs": [],
   "source": [
    "s8='nandkumar\\tshantaram\\tpatil'"
   ]
  },
  {
   "cell_type": "code",
   "execution_count": 140,
   "id": "8af7f8e5",
   "metadata": {},
   "outputs": [
    {
     "data": {
      "text/plain": [
       "'nandkumar\\tshantaram\\tpatil'"
      ]
     },
     "execution_count": 140,
     "metadata": {},
     "output_type": "execute_result"
    }
   ],
   "source": [
    "s8"
   ]
  },
  {
   "cell_type": "code",
   "execution_count": 141,
   "id": "46e91ea1",
   "metadata": {},
   "outputs": [
    {
     "data": {
      "text/plain": [
       "'nandkumar       shantaram       patil'"
      ]
     },
     "execution_count": 141,
     "metadata": {},
     "output_type": "execute_result"
    }
   ],
   "source": [
    "s8.expandtabs()"
   ]
  },
  {
   "cell_type": "code",
   "execution_count": 142,
   "id": "0f18dbd2",
   "metadata": {},
   "outputs": [],
   "source": [
    "s= \"this is My First python programming class and I am learning Python string and its function\""
   ]
  },
  {
   "cell_type": "raw",
   "id": "95e4ad24",
   "metadata": {},
   "source": [
    "1. Try to expand data from index 1 to index 300 with a jumpof 3\n",
    "2. Try to reverse a string without using reverse function\n",
    "3. Try to split a string after conversion of entire string in uppercase\n",
    "4. Try to convert the whole string into lower case\n",
    "5. Try to capitalize the whole string\n",
    "6. Write a difference between isalnum() and isalpha()\n",
    "7. Try to give an example of strip, Istrip and rstrip\n",
    "8. Give an example of expand tab\n",
    "9. Replace the string character by another character by taking your own example\n",
    "10. Try to give a defination of string centre function with an example\n",
    "11. Write your own defination of compiler and interpretor without copy paste from internet in your own language\n",
    "12. Python is a interpreted of compiled language give a clear ans with your understanding\n",
    "13. Try to write a usecase of python with your understanding."
   ]
  },
  {
   "cell_type": "code",
   "execution_count": null,
   "id": "e07c66c9",
   "metadata": {},
   "outputs": [],
   "source": [
    "shivan@ineuron.ai"
   ]
  }
 ],
 "metadata": {
  "kernelspec": {
   "display_name": "Python 3 (ipykernel)",
   "language": "python",
   "name": "python3"
  },
  "language_info": {
   "codemirror_mode": {
    "name": "ipython",
    "version": 3
   },
   "file_extension": ".py",
   "mimetype": "text/x-python",
   "name": "python",
   "nbconvert_exporter": "python",
   "pygments_lexer": "ipython3",
   "version": "3.9.12"
  }
 },
 "nbformat": 4,
 "nbformat_minor": 5
}
